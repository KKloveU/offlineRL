{
 "cells": [
  {
   "cell_type": "code",
   "execution_count": null,
   "metadata": {},
   "outputs": [],
   "source": [
    "import ray\n",
    "import os \n",
    "import argparse\n",
    "\n",
    "\n",
    "dataset_list=['hopper_medium_expert-v2', 'ant_expert-v2', 'halfcheetah-medium-expert-v2', 'hopper-mixed', 'walker2d-medium', \n",
    "'halfcheetah-random-v2', 'ant-random-v2', 'halfcheetah-expert', 'hopper-random-v2', 'ant-random', 'hopper-expert', 'ant-mixed',\n",
    "'halfcheetah-medium-v2', 'halfcheetah-mixed', 'ant-medium-expert-v2', 'halfcheetah-random', 'walker2d-expert-v2', 'ant-medium-replay-v2', \n",
    "'ant-medium-v2', 'hopper-expert-v2', 'walker2d-expert', 'ant-medium_expert', 'walker2d_random-v2', 'hopper_medium', 'ant_medium', \n",
    "'ant_expert', 'halfcheetah_medium_expert', 'hopper_medium-v2', 'walker2d_random', 'walker2d_medium-v2', 'halfcheetah_medium_replay-v2',\n",
    "'halfcheetah_medium', 'halfcheetah_expert-v2', 'maze2d-umaze-sparse-v1', 'walker2d_medium_expert', 'hopper_random', 'hopper_medium_replay-v2',\n",
    "'hopper_medium_expert', 'walker2d_medium_expert-v2']\n",
    "\n",
    "\n"
   ]
  },
  {
   "cell_type": "code",
   "execution_count": null,
   "metadata": {},
   "outputs": [],
   "source": [
    "import argparse\n",
    "if __name__==\"__main__\":\n",
    "    parser = argparse.ArgumentParser()\n",
    "    parser.add_argument(\"--env_name\", default=\"hopper-expert-v2\")    # OpenAI gym environment name\n",
    "    parser.add_argument(\"--seed\", default=0, type=int)               # Sets Gym, PyTorch and Numpy seeds\n",
    "    parser.add_argument(\"--eval_freq\", default=5e3, type=float)      # How often (time steps) we evaluate\n",
    "    parser.add_argument(\"--max_timesteps\", default=1e6, type=float)  # Max time steps to run environment for\n",
    "    parser.add_argument(\"--version\", default='0', type=str)\n",
    "    parser.add_argument('--algo_name', default=\"TD3_BC\", type=str)    # Which algo to run (see the options below in the main function)\n",
    "    parser.add_argument('--log_dir', default='./data_tmp/', type=str) # Logging directory\n",
    "    parser.add_argument('--gamma', default=0.99, type=float)\n",
    "    parser.add_argument('--batch_size', default=256, type=int)\n",
    "    parser.add_argument('--hidden_dim', default=256, type=int)\n",
    "    parser.add_argument('--buffer_size', default=1000000, type=int)\n",
    "    args = parser.parse_args()"
   ]
  },
  {
   "cell_type": "code",
   "execution_count": null,
   "metadata": {},
   "outputs": [],
   "source": []
  },
  {
   "cell_type": "code",
   "execution_count": null,
   "metadata": {},
   "outputs": [],
   "source": [
    "if __name__==\"__main__\":\n",
    "    parser = argparse.ArgumentParser()\n",
    "    parser.add_argument(\"--env_name\", default=\"hopper-expert-v2\")    # OpenAI gym environment name\n",
    "    parser.add_argument(\"--seed\", default=0, type=int)               # Sets Gym, PyTorch and Numpy seeds\n",
    "    parser.add_argument(\"--eval_freq\", default=5e3, type=float)      # How often (time steps) we evaluate\n",
    "    parser.add_argument(\"--max_timesteps\", default=1e6, type=float)  # Max time steps to run environment for\n",
    "    parser.add_argument(\"--version\", default='0', type=str)\n",
    "    parser.add_argument('--algo_name', default=\"TD3_BC\", type=str)    # Which algo to run (see the options below in the main function)\n",
    "    parser.add_argument('--log_dir', default='./data_tmp/', type=str) # Logging directory\n",
    "    parser.add_argument('--gamma', default=0.99, type=float)\n",
    "    parser.add_argument('--batch_size', default=256, type=int)\n",
    "    parser.add_argument('--hidden_dim', default=256, type=int)\n",
    "    parser.add_argument('--buffer_size', default=1000000, type=int)\n",
    "    parser.add_argument('--number_work', default=3, type=int)\n",
    "    args = parser.parse_args()\n",
    "    ray.init()\n",
    "\n",
    "    ray.shutdown()\n"
   ]
  },
  {
   "cell_type": "code",
   "execution_count": null,
   "metadata": {},
   "outputs": [],
   "source": []
  },
  {
   "cell_type": "markdown",
   "metadata": {},
   "source": [
    "-----\n",
    "# for test"
   ]
  },
  {
   "cell_type": "code",
   "execution_count": null,
   "metadata": {},
   "outputs": [],
   "source": [
    "import ray\n",
    "import time\n",
    "import random\n",
    "num_worker=3"
   ]
  },
  {
   "cell_type": "code",
   "execution_count": null,
   "metadata": {},
   "outputs": [],
   "source": [
    "\n",
    "@ray.remote\n",
    "def run(seed):\n",
    "    a=random.randint(1,5)\n",
    "    print(\"任务\",seed,\":\",a)\n",
    "    time.sleep(a)\n",
    "    print(\"任务\",seed,\"done!!\")\n"
   ]
  },
  {
   "cell_type": "code",
   "execution_count": null,
   "metadata": {},
   "outputs": [],
   "source": [
    "if __name__==\"__main__\":\n",
    "    # ray.init()\n",
    "    print(\"start!\")\n",
    "    worker_list=[]\n",
    "    for i in range(10):\n",
    "        if len(worker_list)<3:\n",
    "            worker_list.append(run.remote(i))\n",
    "        else:\n",
    "            worker_list=ray.wait(worker_list)[1]\n",
    "    \n",
    "    print(\"all start wait to finish\")\n",
    "    while(len(worker_list)):\n",
    "        worker_list=ray.wait(worker_list)[1]\n",
    "    print(\"end!\")\n",
    "    # ray.shutdown()\n"
   ]
  },
  {
   "cell_type": "code",
   "execution_count": null,
   "metadata": {},
   "outputs": [],
   "source": [
    "num=[defrun.remote(1),defrun.remote(2),defrun.remote(3),defrun.remote(4)]\n",
    "print(num)\n",
    "print(ray.wait(num,num_returns=4))\n",
    "print(\"finish!\")\n",
    "time.sleep(1)\n",
    "print(\"close\")"
   ]
  },
  {
   "cell_type": "code",
   "execution_count": null,
   "metadata": {},
   "outputs": [],
   "source": [
    "pp=[]\n",
    "for i in range(5):\n",
    "    pp.append(num[i].fun.remote(i))"
   ]
  },
  {
   "cell_type": "code",
   "execution_count": null,
   "metadata": {},
   "outputs": [],
   "source": [
    "done,pp=ray.wait(pp)\n",
    "print(ray.wait(pp))"
   ]
  },
  {
   "cell_type": "code",
   "execution_count": null,
   "metadata": {},
   "outputs": [],
   "source": [
    "import d4rl\n",
    "import gym\n",
    "\n",
    "# 'maze2d-umaze-sparse-v2'\n",
    "# 'hopper-mixed',\n",
    "# 'halfcheetah-mixed',\n",
    "# 'ant-mixed-v0',\n",
    "\n",
    "dataset_list=['hopper-medium-expert-v2', 'ant-expert-v2', 'halfcheetah-medium-expert-v2',  'walker2d-medium-v0', \n",
    "'halfcheetah-random-v2', 'ant-random-v2', 'halfcheetah-expert-v0', 'hopper-random-v2', 'ant-random-v0', 'hopper-expert-v0', \n",
    "'halfcheetah-medium-v2',  'ant-medium-expert-v2', 'halfcheetah-random-v0', 'walker2d-expert-v2', 'ant-medium-replay-v2', \n",
    "'ant-medium-v2', 'hopper-expert-v2', 'walker2d-expert-v0', 'ant-medium-expert-v0', 'walker2d-random-v2', 'hopper-medium-v0', 'ant-medium-v0', \n",
    "'ant-expert-v0', 'halfcheetah-medium-expert-v0', 'hopper-medium-v2', 'walker2d-random-v0', 'walker2d-medium-v2', 'halfcheetah-medium-replay-v2',\n",
    "'halfcheetah-medium-v0', 'halfcheetah-expert-v2', 'walker2d-medium-expert-v0', 'hopper-random-v0', 'hopper-medium-replay-v2',\n",
    "'hopper-medium-expert-v0', 'walker2d-medium-expert-v2']\n",
    "print(len(dataset_list))\n",
    "num=0\n",
    "for i in dataset_list:\n",
    "    try:\n",
    "        env=gym.make(i)\n",
    "        # print(env.reset())\n",
    "    except:\n",
    "        print(i)\n",
    "        num+=1\n",
    "print(\"!!!!warring!!!!\",num)\n"
   ]
  },
  {
   "cell_type": "code",
   "execution_count": 2,
   "metadata": {},
   "outputs": [
    {
     "name": "stdout",
     "output_type": "stream",
     "text": [
      "cuda\n"
     ]
    },
    {
     "name": "stderr",
     "output_type": "stream",
     "text": [
      "2022-11-01 22:08:56,355\tINFO worker.py:1518 -- Started a local Ray instance.\n"
     ]
    },
    {
     "data": {
      "text/plain": [
       "ObjectRef(c8ef45ccd0112571ffffffffffffffffffffffff0100000001000000)"
      ]
     },
     "execution_count": 2,
     "metadata": {},
     "output_type": "execute_result"
    },
    {
     "name": "stdout",
     "output_type": "stream",
     "text": [
      "\u001b[2m\u001b[36m(gpu pid=6922)\u001b[0m cpu\n"
     ]
    }
   ],
   "source": [
    "import d4rl\n",
    "import gym\n",
    "import torch\n",
    "import ray\n",
    "\n",
    "print(torch.device(\"cuda\" if torch.cuda.is_available() else \"cpu\"))\n",
    "\n",
    "@ray.remote\n",
    "def gpu():\n",
    "    print(torch.device(\"cuda\" if torch.cuda.is_available() else \"cpu\"))\n",
    "\n",
    "gpu.remote()\n"
   ]
  },
  {
   "cell_type": "code",
   "execution_count": 5,
   "metadata": {},
   "outputs": [
    {
     "data": {
      "text/plain": [
       "[]"
      ]
     },
     "execution_count": 5,
     "metadata": {},
     "output_type": "execute_result"
    }
   ],
   "source": [
    "ray.get_gpu_ids()"
   ]
  }
 ],
 "metadata": {
  "kernelspec": {
   "display_name": "Python 3.7.13 ('d4rl')",
   "language": "python",
   "name": "python3"
  },
  "language_info": {
   "codemirror_mode": {
    "name": "ipython",
    "version": 3
   },
   "file_extension": ".py",
   "mimetype": "text/x-python",
   "name": "python",
   "nbconvert_exporter": "python",
   "pygments_lexer": "ipython3",
   "version": "3.7.13"
  },
  "orig_nbformat": 4,
  "vscode": {
   "interpreter": {
    "hash": "0a2cb8dc080581d928937b18001ee4ed6f53760644597e21dd37ad8465b3660d"
   }
  }
 },
 "nbformat": 4,
 "nbformat_minor": 2
}
