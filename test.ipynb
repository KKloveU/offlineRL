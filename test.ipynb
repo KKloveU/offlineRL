{
 "cells": [
  {
   "cell_type": "code",
   "execution_count": null,
   "metadata": {},
   "outputs": [],
   "source": [
    "import ray\n",
    "import os \n",
    "import argparse\n",
    "\n",
    "\n",
    "dataset_list=['hopper_medium_expert-v2', 'ant_expert-v2', 'halfcheetah-medium-expert-v2', 'hopper-mixed', 'walker2d-medium', \n",
    "'halfcheetah-random-v2', 'ant-random-v2', 'halfcheetah-expert', 'hopper-random-v2', 'ant-random', 'hopper-expert', 'ant-mixed',\n",
    "'halfcheetah-medium-v2', 'halfcheetah-mixed', 'ant-medium-expert-v2', 'halfcheetah-random', 'walker2d-expert-v2', 'ant-medium-replay-v2', \n",
    "'ant-medium-v2', 'hopper-expert-v2', 'walker2d-expert', 'ant-medium_expert', 'walker2d_random-v2', 'hopper_medium', 'ant_medium', \n",
    "'ant_expert', 'halfcheetah_medium_expert', 'hopper_medium-v2', 'walker2d_random', 'walker2d_medium-v2', 'halfcheetah_medium_replay-v2',\n",
    "'halfcheetah_medium', 'halfcheetah_expert-v2', 'maze2d-umaze-sparse-v1', 'walker2d_medium_expert', 'hopper_random', 'hopper_medium_replay-v2',\n",
    "'hopper_medium_expert', 'walker2d_medium_expert-v2']\n",
    "\n",
    "right=['hopper-medium-expert-v2', 'ant-expert-v2', 'halfcheetah-medium-expert-v2',\n",
    "'halfcheetah-random-v2', 'ant-random-v2', 'hopper-random-v2',\n",
    "'halfcheetah-medium-v2',  'ant-medium-expert-v2', 'walker2d-expert-v2', 'ant-medium-replay-v2',\n",
    "'ant-medium-v2', 'hopper-expert-v2', 'walker2d-random-v2',\n",
    "'hopper-medium-v2', 'walker2d-medium-v2', 'halfcheetah-medium-replay-v2',\n",
    "'halfcheetah-expert-v2', 'hopper-medium-replay-v2',\n",
    "'walker2d-medium-expert-v2']\n"
   ]
  },
  {
   "cell_type": "code",
   "execution_count": 24,
   "metadata": {},
   "outputs": [],
   "source": [
    "import gym\n",
    "right=['hopper-medium-expert-v2', 'ant-expert-v2', 'halfcheetah-medium-expert-v2',\n",
    "'halfcheetah-random-v2', 'ant-random-v2', 'hopper-random-v2',\n",
    "'halfcheetah-medium-v2',  'ant-medium-expert-v2', 'walker2d-expert-v2', 'ant-medium-replay-v2',\n",
    "'ant-medium-v2', 'hopper-expert-v2', 'walker2d-random-v2',\n",
    "'hopper-medium-v2', 'walker2d-medium-v2', 'halfcheetah-medium-replay-v2',\n",
    "'halfcheetah-expert-v2', 'hopper-medium-replay-v2',\n",
    "'walker2d-medium-expert-v2']\n",
    "\n",
    "worng=['halfcheetah-medium-v0','hopper-random-v0','halfcheetah-expert-v0','ant-expert-v0',\n",
    "    'halfcheetah-medium-expert-v0','hopper-expert-v0','halfcheetah-random-v0','ant-medium-v0','walker2d-expert-v0','ant-medium-expert-v0','walker2d-medium-v0',\n",
    "    'ant-random-v0','hopper-medium-v0','walker2d-medium-expert-v0','walker2d-random-v0','hopper-medium-expert-v0']\n",
    "\n",
    "def test_env(name):\n",
    "    import d4rl\n",
    "    env = gym.make(name)\n",
    "    dataset= d4rl.qlearning_dataset(env)\n",
    "    # dataset= env.unwrapped.get_dataset()\n",
    "    print('d4rl method ',dataset.keys())\n",
    "    if('next_observations'not in dataset):\n",
    "        print('**********',name,' Wrong ************')\n",
    "    \n",
    "    dataset= env.unwrapped.get_dataset()\n",
    "    print('get method ',dataset.keys())\n",
    "    if('next_observations'not in dataset):\n",
    "        print('**********',name,' Wrong ************')\n",
    "    print('==========================================================')\n"
   ]
  },
  {
   "cell_type": "code",
   "execution_count": 26,
   "metadata": {},
   "outputs": [
    {
     "name": "stderr",
     "output_type": "stream",
     "text": [
      "/home/zkd/d4rl/d4rl/gym_mujoco/gym_envs.py:18: UserWarning: \u001b[33mThis environment is deprecated. Please use the most recent version of this environment.\u001b[0m\n",
      "  offline_env.OfflineEnv.__init__(self, **kwargs)\n",
      "load datafile: 100%|██████████| 5/5 [00:00<00:00,  9.28it/s]\n"
     ]
    },
    {
     "name": "stdout",
     "output_type": "stream",
     "text": [
      "d4rl method  dict_keys(['observations', 'actions', 'next_observations', 'rewards', 'terminals'])\n"
     ]
    },
    {
     "name": "stderr",
     "output_type": "stream",
     "text": [
      "load datafile: 100%|██████████| 5/5 [00:00<00:00,  9.68it/s]\n",
      "/home/zkd/d4rl/d4rl/gym_mujoco/gym_envs.py:13: UserWarning: \u001b[33mThis environment is deprecated. Please use the most recent version of this environment.\u001b[0m\n",
      "  offline_env.OfflineEnv.__init__(self, **kwargs)\n"
     ]
    },
    {
     "name": "stdout",
     "output_type": "stream",
     "text": [
      "get method  dict_keys(['actions', 'observations', 'rewards', 'terminals', 'timeouts'])\n",
      "********** halfcheetah-medium-v0  Wrong ************\n",
      "==========================================================\n"
     ]
    },
    {
     "name": "stderr",
     "output_type": "stream",
     "text": [
      "load datafile: 100%|██████████| 5/5 [00:00<00:00, 16.21it/s]\n"
     ]
    },
    {
     "name": "stdout",
     "output_type": "stream",
     "text": [
      "d4rl method  dict_keys(['observations', 'actions', 'next_observations', 'rewards', 'terminals'])\n"
     ]
    },
    {
     "name": "stderr",
     "output_type": "stream",
     "text": [
      "load datafile: 100%|██████████| 5/5 [00:00<00:00, 16.15it/s]\n"
     ]
    },
    {
     "name": "stdout",
     "output_type": "stream",
     "text": [
      "get method  dict_keys(['actions', 'observations', 'rewards', 'terminals', 'timeouts'])\n",
      "********** hopper-random-v0  Wrong ************\n",
      "==========================================================\n"
     ]
    },
    {
     "name": "stderr",
     "output_type": "stream",
     "text": [
      "load datafile: 100%|██████████| 5/5 [00:00<00:00,  9.55it/s]\n"
     ]
    },
    {
     "name": "stdout",
     "output_type": "stream",
     "text": [
      "d4rl method  dict_keys(['observations', 'actions', 'next_observations', 'rewards', 'terminals'])\n"
     ]
    },
    {
     "name": "stderr",
     "output_type": "stream",
     "text": [
      "load datafile: 100%|██████████| 5/5 [00:00<00:00,  9.69it/s]\n",
      "/home/zkd/d4rl/d4rl/gym_mujoco/gym_envs.py:8: UserWarning: \u001b[33mThis environment is deprecated. Please use the most recent version of this environment.\u001b[0m\n",
      "  offline_env.OfflineEnv.__init__(self, **kwargs)\n"
     ]
    },
    {
     "name": "stdout",
     "output_type": "stream",
     "text": [
      "get method  dict_keys(['actions', 'observations', 'rewards', 'terminals', 'timeouts'])\n",
      "********** halfcheetah-expert-v0  Wrong ************\n",
      "==========================================================\n"
     ]
    },
    {
     "name": "stderr",
     "output_type": "stream",
     "text": [
      "load datafile: 100%|██████████| 5/5 [00:01<00:00,  3.75it/s]\n"
     ]
    },
    {
     "name": "stdout",
     "output_type": "stream",
     "text": [
      "d4rl method  dict_keys(['observations', 'actions', 'next_observations', 'rewards', 'terminals'])\n"
     ]
    },
    {
     "name": "stderr",
     "output_type": "stream",
     "text": [
      "load datafile: 100%|██████████| 5/5 [00:01<00:00,  3.80it/s]\n"
     ]
    },
    {
     "name": "stdout",
     "output_type": "stream",
     "text": [
      "get method  dict_keys(['actions', 'observations', 'rewards', 'terminals', 'timeouts'])\n",
      "********** ant-expert-v0  Wrong ************\n",
      "==========================================================\n"
     ]
    },
    {
     "name": "stderr",
     "output_type": "stream",
     "text": [
      "load datafile: 100%|██████████| 5/5 [00:01<00:00,  4.79it/s]\n"
     ]
    },
    {
     "name": "stdout",
     "output_type": "stream",
     "text": [
      "d4rl method  dict_keys(['observations', 'actions', 'next_observations', 'rewards', 'terminals'])\n"
     ]
    },
    {
     "name": "stderr",
     "output_type": "stream",
     "text": [
      "load datafile: 100%|██████████| 5/5 [00:01<00:00,  4.88it/s]\n"
     ]
    },
    {
     "name": "stdout",
     "output_type": "stream",
     "text": [
      "get method  dict_keys(['actions', 'observations', 'rewards', 'terminals', 'timeouts'])\n",
      "********** halfcheetah-medium-expert-v0  Wrong ************\n",
      "==========================================================\n"
     ]
    },
    {
     "name": "stderr",
     "output_type": "stream",
     "text": [
      "load datafile: 100%|██████████| 5/5 [00:00<00:00, 16.36it/s]\n"
     ]
    },
    {
     "name": "stdout",
     "output_type": "stream",
     "text": [
      "d4rl method  dict_keys(['observations', 'actions', 'next_observations', 'rewards', 'terminals'])\n"
     ]
    },
    {
     "name": "stderr",
     "output_type": "stream",
     "text": [
      "load datafile: 100%|██████████| 5/5 [00:00<00:00, 15.83it/s]\n"
     ]
    },
    {
     "name": "stdout",
     "output_type": "stream",
     "text": [
      "get method  dict_keys(['actions', 'observations', 'rewards', 'terminals', 'timeouts'])\n",
      "********** hopper-expert-v0  Wrong ************\n",
      "==========================================================\n"
     ]
    },
    {
     "name": "stderr",
     "output_type": "stream",
     "text": [
      "load datafile: 100%|██████████| 5/5 [00:00<00:00,  9.86it/s]\n"
     ]
    },
    {
     "name": "stdout",
     "output_type": "stream",
     "text": [
      "d4rl method  dict_keys(['observations', 'actions', 'next_observations', 'rewards', 'terminals'])\n"
     ]
    },
    {
     "name": "stderr",
     "output_type": "stream",
     "text": [
      "load datafile: 100%|██████████| 5/5 [00:00<00:00,  9.73it/s]\n"
     ]
    },
    {
     "name": "stdout",
     "output_type": "stream",
     "text": [
      "get method  dict_keys(['actions', 'observations', 'rewards', 'terminals', 'timeouts'])\n",
      "********** halfcheetah-random-v0  Wrong ************\n",
      "==========================================================\n"
     ]
    },
    {
     "name": "stderr",
     "output_type": "stream",
     "text": [
      "load datafile: 100%|██████████| 5/5 [00:01<00:00,  3.84it/s]\n"
     ]
    },
    {
     "name": "stdout",
     "output_type": "stream",
     "text": [
      "d4rl method  dict_keys(['observations', 'actions', 'next_observations', 'rewards', 'terminals'])\n"
     ]
    },
    {
     "name": "stderr",
     "output_type": "stream",
     "text": [
      "load datafile: 100%|██████████| 5/5 [00:01<00:00,  3.74it/s]\n",
      "/home/zkd/d4rl/d4rl/gym_mujoco/gym_envs.py:23: UserWarning: \u001b[33mThis environment is deprecated. Please use the most recent version of this environment.\u001b[0m\n",
      "  offline_env.OfflineEnv.__init__(self, **kwargs)\n"
     ]
    },
    {
     "name": "stdout",
     "output_type": "stream",
     "text": [
      "get method  dict_keys(['actions', 'observations', 'rewards', 'terminals', 'timeouts'])\n",
      "********** ant-medium-v0  Wrong ************\n",
      "==========================================================\n"
     ]
    },
    {
     "name": "stderr",
     "output_type": "stream",
     "text": [
      "load datafile: 100%|██████████| 5/5 [00:00<00:00,  9.93it/s]\n"
     ]
    },
    {
     "name": "stdout",
     "output_type": "stream",
     "text": [
      "d4rl method  dict_keys(['observations', 'actions', 'next_observations', 'rewards', 'terminals'])\n"
     ]
    },
    {
     "name": "stderr",
     "output_type": "stream",
     "text": [
      "load datafile: 100%|██████████| 5/5 [00:00<00:00,  9.84it/s]\n"
     ]
    },
    {
     "name": "stdout",
     "output_type": "stream",
     "text": [
      "get method  dict_keys(['actions', 'observations', 'rewards', 'terminals', 'timeouts'])\n",
      "********** walker2d-expert-v0  Wrong ************\n",
      "==========================================================\n"
     ]
    },
    {
     "name": "stderr",
     "output_type": "stream",
     "text": [
      "load datafile: 100%|██████████| 5/5 [00:02<00:00,  1.89it/s]\n"
     ]
    },
    {
     "name": "stdout",
     "output_type": "stream",
     "text": [
      "d4rl method  dict_keys(['observations', 'actions', 'next_observations', 'rewards', 'terminals'])\n"
     ]
    },
    {
     "name": "stderr",
     "output_type": "stream",
     "text": [
      "load datafile: 100%|██████████| 5/5 [00:02<00:00,  1.88it/s]\n"
     ]
    },
    {
     "name": "stdout",
     "output_type": "stream",
     "text": [
      "get method  dict_keys(['actions', 'observations', 'rewards', 'terminals', 'timeouts'])\n",
      "********** ant-medium-expert-v0  Wrong ************\n",
      "==========================================================\n"
     ]
    },
    {
     "name": "stderr",
     "output_type": "stream",
     "text": [
      "load datafile: 100%|██████████| 5/5 [00:00<00:00,  9.75it/s]\n"
     ]
    },
    {
     "name": "stdout",
     "output_type": "stream",
     "text": [
      "d4rl method  dict_keys(['observations', 'actions', 'next_observations', 'rewards', 'terminals'])\n"
     ]
    },
    {
     "name": "stderr",
     "output_type": "stream",
     "text": [
      "load datafile: 100%|██████████| 5/5 [00:00<00:00,  9.89it/s]\n"
     ]
    },
    {
     "name": "stdout",
     "output_type": "stream",
     "text": [
      "get method  dict_keys(['actions', 'observations', 'rewards', 'terminals', 'timeouts'])\n",
      "********** walker2d-medium-v0  Wrong ************\n",
      "==========================================================\n"
     ]
    },
    {
     "name": "stderr",
     "output_type": "stream",
     "text": [
      "load datafile: 100%|██████████| 5/5 [00:01<00:00,  3.51it/s]\n"
     ]
    },
    {
     "name": "stdout",
     "output_type": "stream",
     "text": [
      "d4rl method  dict_keys(['observations', 'actions', 'next_observations', 'rewards', 'terminals'])\n"
     ]
    },
    {
     "name": "stderr",
     "output_type": "stream",
     "text": [
      "load datafile: 100%|██████████| 5/5 [00:01<00:00,  3.54it/s]\n"
     ]
    },
    {
     "name": "stdout",
     "output_type": "stream",
     "text": [
      "get method  dict_keys(['actions', 'observations', 'rewards', 'terminals', 'timeouts'])\n",
      "********** ant-random-v0  Wrong ************\n",
      "==========================================================\n"
     ]
    },
    {
     "name": "stderr",
     "output_type": "stream",
     "text": [
      "load datafile: 100%|██████████| 5/5 [00:00<00:00, 15.85it/s]\n"
     ]
    },
    {
     "name": "stdout",
     "output_type": "stream",
     "text": [
      "d4rl method  dict_keys(['observations', 'actions', 'next_observations', 'rewards', 'terminals'])\n"
     ]
    },
    {
     "name": "stderr",
     "output_type": "stream",
     "text": [
      "load datafile: 100%|██████████| 5/5 [00:00<00:00, 16.34it/s]\n"
     ]
    },
    {
     "name": "stdout",
     "output_type": "stream",
     "text": [
      "get method  dict_keys(['actions', 'observations', 'rewards', 'terminals', 'timeouts'])\n",
      "********** hopper-medium-v0  Wrong ************\n",
      "==========================================================\n"
     ]
    },
    {
     "name": "stderr",
     "output_type": "stream",
     "text": [
      "load datafile: 100%|██████████| 5/5 [00:01<00:00,  4.88it/s]\n"
     ]
    },
    {
     "name": "stdout",
     "output_type": "stream",
     "text": [
      "d4rl method  dict_keys(['observations', 'actions', 'next_observations', 'rewards', 'terminals'])\n"
     ]
    },
    {
     "name": "stderr",
     "output_type": "stream",
     "text": [
      "load datafile: 100%|██████████| 5/5 [00:00<00:00,  5.00it/s]\n"
     ]
    },
    {
     "name": "stdout",
     "output_type": "stream",
     "text": [
      "get method  dict_keys(['actions', 'observations', 'rewards', 'terminals', 'timeouts'])\n",
      "********** walker2d-medium-expert-v0  Wrong ************\n",
      "==========================================================\n"
     ]
    },
    {
     "name": "stderr",
     "output_type": "stream",
     "text": [
      "load datafile: 100%|██████████| 5/5 [00:00<00:00,  9.53it/s]\n"
     ]
    },
    {
     "name": "stdout",
     "output_type": "stream",
     "text": [
      "d4rl method  dict_keys(['observations', 'actions', 'next_observations', 'rewards', 'terminals'])\n"
     ]
    },
    {
     "name": "stderr",
     "output_type": "stream",
     "text": [
      "load datafile: 100%|██████████| 5/5 [00:00<00:00,  9.90it/s]\n"
     ]
    },
    {
     "name": "stdout",
     "output_type": "stream",
     "text": [
      "get method  dict_keys(['actions', 'observations', 'rewards', 'terminals', 'timeouts'])\n",
      "********** walker2d-random-v0  Wrong ************\n",
      "==========================================================\n"
     ]
    },
    {
     "name": "stderr",
     "output_type": "stream",
     "text": [
      "load datafile: 100%|██████████| 5/5 [00:00<00:00, 13.29it/s]\n"
     ]
    },
    {
     "name": "stdout",
     "output_type": "stream",
     "text": [
      "d4rl method  dict_keys(['observations', 'actions', 'next_observations', 'rewards', 'terminals'])\n"
     ]
    },
    {
     "name": "stderr",
     "output_type": "stream",
     "text": [
      "load datafile: 100%|██████████| 5/5 [00:00<00:00, 13.43it/s]"
     ]
    },
    {
     "name": "stdout",
     "output_type": "stream",
     "text": [
      "get method  dict_keys(['actions', 'observations', 'rewards', 'terminals', 'timeouts'])\n",
      "********** hopper-medium-expert-v0  Wrong ************\n",
      "==========================================================\n"
     ]
    },
    {
     "name": "stderr",
     "output_type": "stream",
     "text": [
      "\n"
     ]
    }
   ],
   "source": [
    "for i in worng:\n",
    "    test_env(i)"
   ]
  },
  {
   "cell_type": "code",
   "execution_count": 41,
   "metadata": {},
   "outputs": [
    {
     "name": "stdout",
     "output_type": "stream",
     "text": [
      "\u001b[2m\u001b[36m(do pid=22572)\u001b[0m 2 start!\n",
      "\u001b[2m\u001b[36m(do pid=22568)\u001b[0m 3 start!\n",
      "\u001b[2m\u001b[36m(do pid=22573)\u001b[0m 0 start!\n",
      "\u001b[2m\u001b[36m(do pid=22571)\u001b[0m 1 start!\n",
      "\u001b[2m\u001b[36m(do pid=22577)\u001b[0m 4 start!\n",
      "\u001b[2m\u001b[36m(do pid=22564)\u001b[0m 5 start!\n",
      "\u001b[2m\u001b[36m(do pid=22571)\u001b[0m 1 done!\n",
      "\u001b[2m\u001b[36m(do pid=22571)\u001b[0m 7 start!\n",
      "all start! \n",
      "\u001b[2m\u001b[36m(do pid=22572)\u001b[0m 2 done!\n",
      "\u001b[2m\u001b[36m(do pid=22568)\u001b[0m 3 done!\n",
      "\u001b[2m\u001b[36m(do pid=22568)\u001b[0m 9 start!\n",
      "\u001b[2m\u001b[36m(do pid=22564)\u001b[0m 5 done!\n",
      "\u001b[2m\u001b[36m(do pid=22571)\u001b[0m 7 done!\n",
      "\u001b[2m\u001b[36m(do pid=22573)\u001b[0m 0 done!\n",
      "\u001b[2m\u001b[36m(do pid=22577)\u001b[0m 4 done!\n"
     ]
    },
    {
     "name": "stdout",
     "output_type": "stream",
     "text": [
      "\u001b[2m\u001b[36m(do pid=22568)\u001b[0m 9 done!\n"
     ]
    }
   ],
   "source": [
    "import ray\n",
    "import time\n",
    "import random\n",
    "\n",
    "@ray.remote\n",
    "def do(seed):\n",
    "    t=random.randint(1,4)\n",
    "    print(seed,'start!')\n",
    "    time.sleep(t)\n",
    "    print(seed,\"done!\")\n",
    "    # return 0\n",
    "\n",
    "do_list=[]\n",
    "for i in range(10):\n",
    "    if(len(do_list)<6):\n",
    "        do_list.append(do.remote(i))\n",
    "    else:\n",
    "        done,do_list=ray.wait(do_list)\n",
    "        # ray.get(done)\n",
    "print(\"all start! \")\n",
    "while(len(do_list)):\n",
    "    done,do_list=ray.wait(do_list)"
   ]
  }
 ],
 "metadata": {
  "kernelspec": {
   "display_name": "Python 3.7.13 ('d4rl')",
   "language": "python",
   "name": "python3"
  },
  "language_info": {
   "codemirror_mode": {
    "name": "ipython",
    "version": 3
   },
   "file_extension": ".py",
   "mimetype": "text/x-python",
   "name": "python",
   "nbconvert_exporter": "python",
   "pygments_lexer": "ipython3",
   "version": "3.7.13"
  },
  "orig_nbformat": 4,
  "vscode": {
   "interpreter": {
    "hash": "0a2cb8dc080581d928937b18001ee4ed6f53760644597e21dd37ad8465b3660d"
   }
  }
 },
 "nbformat": 4,
 "nbformat_minor": 2
}
