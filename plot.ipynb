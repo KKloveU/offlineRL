{
 "cells": [
  {
   "cell_type": "code",
   "execution_count": null,
   "metadata": {},
   "outputs": [],
   "source": [
    "import matplotlib.pyplot as plt\n",
    "import os\n",
    "import pandas as pd\n",
    "log_dir='data_plot'\n",
    "\n"
   ]
  },
  {
   "cell_type": "code",
   "execution_count": null,
   "metadata": {},
   "outputs": [],
   "source": [
    "\n",
    "target_list=[\"Eval/AverageReturn\",\"Eval/StdReturn\"\n",
    ",\"Eval/MedianReturn\",\"Eval/MinReturn\",\"Eval/D4RL_score\",\"training time\"]\n",
    "\n",
    "for target in target_list:\n",
    "    plt.figure(figsize=(10,6))\n",
    "    for data_path in os.listdir(log_dir):\n",
    "        file_path=log_dir+'/'+data_path+'/'+\"progress.csv\"\n",
    "        with open(file_path) as file:\n",
    "            data=pd.read_csv(file_path,sep=',',header=0)\n",
    "            plt.plot(data[target].values,label=data_path)\n",
    "\n",
    "    plt.xlabel('step')\n",
    "    plt.ylabel(target)\n",
    "    plt.legend(bbox_to_anchor=(1.1, -.1),ncol=1)    \n",
    "    plt.show()"
   ]
  },
  {
   "cell_type": "code",
   "execution_count": null,
   "metadata": {},
   "outputs": [],
   "source": []
  }
 ],
 "metadata": {
  "kernelspec": {
   "display_name": "Python 3.7.13 ('d4rl')",
   "language": "python",
   "name": "python3"
  },
  "language_info": {
   "codemirror_mode": {
    "name": "ipython",
    "version": 3
   },
   "file_extension": ".py",
   "mimetype": "text/x-python",
   "name": "python",
   "nbconvert_exporter": "python",
   "pygments_lexer": "ipython3",
   "version": "3.7.13"
  },
  "orig_nbformat": 4,
  "vscode": {
   "interpreter": {
    "hash": "0a2cb8dc080581d928937b18001ee4ed6f53760644597e21dd37ad8465b3660d"
   }
  }
 },
 "nbformat": 4,
 "nbformat_minor": 2
}
